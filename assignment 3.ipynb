{
 "cells": [
  {
   "cell_type": "code",
   "execution_count": 1,
   "id": "a8f3bc0c",
   "metadata": {},
   "outputs": [
    {
     "name": "stdout",
     "output_type": "stream",
     "text": [
      "0\n",
      "1\n",
      "2\n",
      "4\n",
      "5\n"
     ]
    }
   ],
   "source": [
    "#1) Write a Python program that prints all the numbers from 0 to 6 except 3 and 6\n",
    "for i in range(0,3):\n",
    "    print(i)\n",
    "for j in range(4,6):\n",
    "    print(j)\n"
   ]
  },
  {
   "cell_type": "code",
   "execution_count": 1,
   "id": "60cc6963",
   "metadata": {},
   "outputs": [
    {
     "name": "stdout",
     "output_type": "stream",
     "text": [
      "0\n",
      "1\n",
      "2\n",
      "4\n",
      "5\n"
     ]
    }
   ],
   "source": [
    "a=-1\n",
    "while a<6:\n",
    "    a=a+1\n",
    "    if a==3:\n",
    "        continue\n",
    "    if a==6:\n",
    "        break\n",
    "    print(a)"
   ]
  },
  {
   "cell_type": "code",
   "execution_count": 20,
   "id": "e753f647",
   "metadata": {},
   "outputs": [
    {
     "name": "stdout",
     "output_type": "stream",
     "text": [
      "0\n",
      "1\n",
      "2\n",
      "4\n",
      "5\n"
     ]
    }
   ],
   "source": [
    "for i in range(7):\n",
    "    if i==3 or i==6:\n",
    "        continue\n",
    "    else:\n",
    "        print(i)\n",
    "\n",
    "    \n",
    "            \n",
    "     "
   ]
  },
  {
   "cell_type": "code",
   "execution_count": 35,
   "id": "8f7ee557",
   "metadata": {},
   "outputs": [
    {
     "name": "stdout",
     "output_type": "stream",
     "text": [
      "enter the number7\n",
      "28\n"
     ]
    }
   ],
   "source": [
    "#2) Write a program to accept a number from a user and calculate the sum of all numbers from 1 to a given number\n",
    "n=int(input(\"enter the number\"))\n",
    "k=0\n",
    "for i in range(1,n+1):\n",
    "    k=k+i\n",
    "print(k)\n",
    "\n",
    "    "
   ]
  },
  {
   "cell_type": "code",
   "execution_count": 2,
   "id": "71a7ca5e",
   "metadata": {},
   "outputs": [
    {
     "name": "stdout",
     "output_type": "stream",
     "text": [
      "enter the number7\n",
      "28\n"
     ]
    }
   ],
   "source": [
    "n=int(input(\"enter the number\"))\n",
    "s=1\n",
    "k=0\n",
    "while s<(n+1):\n",
    "    k=k+s\n",
    "    s=s+1\n",
    "print(k) "
   ]
  },
  {
   "cell_type": "code",
   "execution_count": 41,
   "id": "1cbb8aec",
   "metadata": {},
   "outputs": [
    {
     "name": "stdout",
     "output_type": "stream",
     "text": [
      "enter a number to print the multiplication table:\t2\n",
      "2*1=2\n",
      "2*2=4\n",
      "2*3=6\n",
      "2*4=8\n",
      "2*5=10\n",
      "2*6=12\n",
      "2*7=14\n",
      "2*8=16\n",
      "2*9=18\n",
      "2*10=20\n"
     ]
    }
   ],
   "source": [
    "#3) Write a program to print multiplication table of a given number(input)\n",
    "numb=int(input(\"enter a number to print the multiplication table:\\t\"))\n",
    "for i in range(1,11):\n",
    "    print(\"{}*{}={}\".format(numb,i,numb*i))\n",
    "    "
   ]
  },
  {
   "cell_type": "code",
   "execution_count": 3,
   "id": "dfabdcc9",
   "metadata": {},
   "outputs": [
    {
     "name": "stdout",
     "output_type": "stream",
     "text": [
      "enter a number to print the multiplication table:\t5\n",
      "5*1=5\n",
      "5*2=10\n",
      "5*3=15\n",
      "5*4=20\n",
      "5*5=25\n",
      "5*6=30\n",
      "5*7=35\n",
      "5*8=40\n",
      "5*9=45\n",
      "5*10=50\n"
     ]
    }
   ],
   "source": [
    "numb=int(input(\"enter a number to print the multiplication table:\\t\"))\n",
    "s=1\n",
    "while s<=10:\n",
    "    print(\"{}*{}={}\".format(numb,s,numb*s))\n",
    "    s=s+1"
   ]
  },
  {
   "cell_type": "code",
   "execution_count": 44,
   "id": "496b9be1",
   "metadata": {},
   "outputs": [
    {
     "name": "stdout",
     "output_type": "stream",
     "text": [
      "enter the numbers75869\n",
      "5\n"
     ]
    }
   ],
   "source": [
    "#4) Write a program to count the total number of digits in a number using a while loop.\n",
    "a=input(\"enter the numbers\")\n",
    "count=0\n",
    "for y in a:\n",
    "    count=count+1\n",
    "print(count)"
   ]
  },
  {
   "cell_type": "code",
   "execution_count": 6,
   "id": "90ac9954",
   "metadata": {},
   "outputs": [
    {
     "name": "stdout",
     "output_type": "stream",
     "text": [
      "enter the numbers8970\n",
      "4\n"
     ]
    }
   ],
   "source": [
    "a=input(\"enter the numbers\")\n",
    "count=0\n",
    "l=len(a)\n",
    "while count<l:\n",
    "    count=count+1\n",
    "print(count)"
   ]
  },
  {
   "cell_type": "code",
   "execution_count": 7,
   "id": "4e2f714f",
   "metadata": {},
   "outputs": [
    {
     "name": "stdout",
     "output_type": "stream",
     "text": [
      "enter the number in between 1 to 10: 4\n",
      "not the correct guess\n",
      "enter the number in between 1 to 10: 5\n",
      "not the correct guess\n",
      "enter the number in between 1 to 10: 11\n",
      "not the correct guess\n",
      "enter the number in between 1 to 10: 7\n",
      "not the correct guess\n",
      "enter the number in between 1 to 10: 3\n",
      "not the correct guess\n",
      "enter the number in between 1 to 10: 2\n",
      "Well guessed!\n"
     ]
    }
   ],
   "source": [
    "#5) Write a Python program to guess a number between 1 to\n",
    "#Example:User is prompted to enter a guess. If the user guesses wrong then the prompt appears again until the guess is correct,\n",
    "#on successful guess, user will get a \"Well guessed!\" message, and the program will exit.\n",
    "import random\n",
    "r=random.randrange(1,10)\n",
    "i=0                                                            \n",
    "while i<10:\n",
    "    guess=int(input(\"enter the number in between 1 to 10: \"))\n",
    "    if r==guess:\n",
    "        print(\"Well guessed!\")\n",
    "        break;\n",
    "    else:\n",
    "        print(\"not the correct guess\")"
   ]
  },
  {
   "cell_type": "code",
   "execution_count": 11,
   "id": "f6e6add6",
   "metadata": {},
   "outputs": [
    {
     "name": "stdout",
     "output_type": "stream",
     "text": [
      "enter the number : 2\n",
      "not the correct guess\n",
      "enter the number : 9\n",
      "not the correct guess\n",
      "enter the number : 4\n",
      "Well guessed!\n"
     ]
    }
   ],
   "source": [
    "import random\n",
    "r=random.randrange(1,10)\n",
    "for i in range(1,10):                                    \n",
    "    guess=int(input(\"enter the number : \"))\n",
    "    if r==guess:\n",
    "        print(\"Well guessed!\")\n",
    "        break;\n",
    "    else:\n",
    "        print(\"not the correct guess\") "
   ]
  },
  {
   "cell_type": "code",
   "execution_count": 12,
   "id": "b17a9c34",
   "metadata": {},
   "outputs": [
    {
     "name": "stdout",
     "output_type": "stream",
     "text": [
      "1\n",
      "2\n",
      "Fizz\n",
      "4\n",
      "Buzz\n",
      "Fizz\n",
      "7\n",
      "8\n",
      "Fizz\n",
      "Buzz\n",
      "11\n",
      "Fizz\n",
      "13\n",
      "14\n",
      "FizzBuzz\n",
      "16\n",
      "17\n",
      "Fizz\n",
      "19\n",
      "Buzz\n",
      "Fizz\n",
      "22\n",
      "23\n",
      "Fizz\n",
      "Buzz\n",
      "26\n",
      "Fizz\n",
      "28\n",
      "29\n",
      "FizzBuzz\n",
      "31\n",
      "32\n",
      "Fizz\n",
      "34\n",
      "Buzz\n",
      "Fizz\n",
      "37\n",
      "38\n",
      "Fizz\n",
      "Buzz\n",
      "41\n",
      "Fizz\n",
      "43\n",
      "44\n",
      "FizzBuzz\n",
      "46\n",
      "47\n",
      "Fizz\n",
      "49\n",
      "Buzz\n",
      "Fizz\n",
      "52\n",
      "53\n",
      "Fizz\n",
      "Buzz\n",
      "56\n",
      "Fizz\n",
      "58\n",
      "59\n",
      "FizzBuzz\n"
     ]
    }
   ],
   "source": [
    "#6) Write a Python program which iterates the integers from 1 to 60. For multiples of three print \"Fizz\" instead of the\n",
    "#number and for the multiples of five print \"Buzz\". For numbers which are multiples of both three and five print\"FizzBuzz\".\n",
    "for i in range(1,61):\n",
    "    if i%3==0 and i%5==0:\n",
    "        print(\"FizzBuzz\")\n",
    "    elif i%3==0:\n",
    "        print(\"Fizz\")\n",
    "    elif i%5==0:\n",
    "        print(\"Buzz\")\n",
    "    else:\n",
    "        print(i)\n"
   ]
  },
  {
   "cell_type": "code",
   "execution_count": 1,
   "id": "c11b344b",
   "metadata": {},
   "outputs": [
    {
     "name": "stdout",
     "output_type": "stream",
     "text": [
      "FizzBuzz\n",
      "1\n",
      "2\n",
      "Fizz\n",
      "4\n",
      "Buzz\n",
      "Fizz\n",
      "7\n",
      "8\n",
      "Fizz\n",
      "Buzz\n",
      "11\n",
      "Fizz\n",
      "13\n",
      "14\n",
      "FizzBuzz\n",
      "16\n",
      "17\n",
      "Fizz\n",
      "19\n",
      "Buzz\n",
      "Fizz\n",
      "22\n",
      "23\n",
      "Fizz\n",
      "Buzz\n",
      "26\n",
      "Fizz\n",
      "28\n",
      "29\n",
      "FizzBuzz\n",
      "31\n",
      "32\n",
      "Fizz\n",
      "34\n",
      "Buzz\n",
      "Fizz\n",
      "37\n",
      "38\n",
      "Fizz\n",
      "Buzz\n",
      "41\n",
      "Fizz\n",
      "43\n",
      "44\n",
      "FizzBuzz\n",
      "46\n",
      "47\n",
      "Fizz\n",
      "49\n",
      "Buzz\n",
      "Fizz\n",
      "52\n",
      "53\n",
      "Fizz\n",
      "Buzz\n",
      "56\n",
      "Fizz\n",
      "58\n",
      "59\n",
      "FizzBuzz\n"
     ]
    }
   ],
   "source": [
    "i=0\n",
    "while i<=60:\n",
    "    if i%3==0 and i%5==0:\n",
    "        print(\"FizzBuzz\")\n",
    "    elif i%3==0:\n",
    "        print(\"Fizz\")\n",
    "    elif i%5==0:\n",
    "        print(\"Buzz\")\n",
    "    else:\n",
    "        print(i)\n",
    "    i=i+1"
   ]
  },
  {
   "cell_type": "code",
   "execution_count": 2,
   "id": "f551279d",
   "metadata": {},
   "outputs": [
    {
     "name": "stdout",
     "output_type": "stream",
     "text": [
      "enter a string: python 3.2\n",
      "digit count 2\n",
      "letters count 6\n"
     ]
    }
   ],
   "source": [
    "#7) Write a Python program that accepts a string and calculate the number of digits and letters\n",
    "#Example:Input Python 3.2\n",
    "#Output Letters 6 Digits 2\n",
    "s=input(\"enter a string: \")\n",
    "l=len(s)\n",
    "l_count=0\n",
    "d_count=0\n",
    "for i in s:\n",
    "    if i.isdigit():\n",
    "        d_count+=1\n",
    "    elif i.isalpha():\n",
    "        l_count+=1\n",
    "print(\"digit count\",d_count)\n",
    "print(\"letters count\",l_count)\n",
    "    \n"
   ]
  },
  {
   "cell_type": "code",
   "execution_count": 3,
   "id": "6ba1fa0f",
   "metadata": {},
   "outputs": [
    {
     "name": "stdout",
     "output_type": "stream",
     "text": [
      "enter a string:python 3.2\n",
      "digit count 2\n",
      "letters count 6\n"
     ]
    }
   ],
   "source": [
    "s=input(\"enter a string:\")\n",
    "l=len(s)\n",
    "l_count=0\n",
    "d_count=0\n",
    "i=0\n",
    "while i<l:\n",
    "    if s[i].isdigit():\n",
    "        d_count+=1\n",
    "    elif s[i].isalpha():\n",
    "        l_count+=1\n",
    "    i=i+1\n",
    "print(\"digit count\",d_count)\n",
    "print(\"letters count\",l_count) "
   ]
  },
  {
   "cell_type": "code",
   "execution_count": 6,
   "id": "6c5d20c4",
   "metadata": {},
   "outputs": [
    {
     "name": "stdout",
     "output_type": "stream",
     "text": [
      "enter a passwordsD7$durgasai123\n",
      "valid password\n"
     ]
    }
   ],
   "source": [
    "#8) Write a Python program to check the validity of password input by users.\n",
    "#Validation:\n",
    "#At least 1 letter between [a-z] and 1 letter between [A-Z].\n",
    "#At least 1 number between [0-9].\n",
    "#At least 1 character from [$#@].\n",
    "#Minimum length 6 characters.\n",
    "#Maximum length 16 characters.\n",
    "password=input(\"enter a password\")\n",
    "l=len(password)\n",
    "d_count=0\n",
    "l_count=0\n",
    "s_count=0\n",
    "u_count=0\n",
    "a_count=0\n",
    "for i in password:\n",
    "    if i.isalpha():\n",
    "        a_count+=1\n",
    "    if i.isdigit():\n",
    "        d_count+=1\n",
    "    if i.isupper():\n",
    "         u_count+=1\n",
    "    if i.islower():\n",
    "         l_count+=1\n",
    "    if i==\"@\" or i==\"#\" or i==\"$\":\n",
    "         s_count+=1\n",
    "if a_count>=1 and d_count>=1 and u_count>=1 and l_count>=1 and s_count>=1:\n",
    "    print(\"valid password\")\n",
    "else:\n",
    "    print(\"not valid password\")\n"
   ]
  },
  {
   "cell_type": "code",
   "execution_count": 7,
   "id": "4991e234",
   "metadata": {},
   "outputs": [
    {
     "name": "stdout",
     "output_type": "stream",
     "text": [
      "enter a word: durgasai\n",
      "iasagrud\n"
     ]
    }
   ],
   "source": [
    "#9) Write a program in Python to reverse a word by using while loop\n",
    "#while loop\n",
    "w=input(\"enter a word: \")\n",
    "l=len(w)\n",
    "s=1\n",
    "k=\"\"\n",
    "while s<=l:\n",
    "    k=k+w[l-s]\n",
    "    s=s+1\n",
    "print(k)\n"
   ]
  },
  {
   "cell_type": "code",
   "execution_count": 8,
   "id": "67db2d70",
   "metadata": {},
   "outputs": [
    {
     "name": "stdout",
     "output_type": "stream",
     "text": [
      "enter a word: durgasai\n",
      "iasagrud\n"
     ]
    }
   ],
   "source": [
    "w=input(\"enter a word: \")\n",
    "l=len(w)\n",
    "k=\"\"\n",
    "for s in range(1,l+1):\n",
    "    k=k+w[l-s]\n",
    "    s=s+1\n",
    "print(k)"
   ]
  },
  {
   "cell_type": "code",
   "execution_count": 9,
   "id": "f448d269",
   "metadata": {},
   "outputs": [
    {
     "name": "stdout",
     "output_type": "stream",
     "text": [
      "enter an integer: 12\n",
      "enter an integer: 3\n",
      "enter an integer: 4\n",
      "enter an integer: 7\n",
      "enter an integer: 7\n",
      "enter an integer: 2\n",
      "enter an integer: 4\n",
      "enter an integer: 7\n",
      "enter an integer: 3\n",
      "enter an integer: 2\n",
      "5.1\n"
     ]
    }
   ],
   "source": [
    "#10) Write a program which takes 10 integers as input using loop and print their average value on the screen\n",
    "s=0\n",
    "j=0\n",
    "while s<10:\n",
    "    i=input(\"enter an integer: \")\n",
    "    j+=int(i)\n",
    "    s+=1\n",
    "print(j/10)   \n"
   ]
  },
  {
   "cell_type": "code",
   "execution_count": 10,
   "id": "14b16ce4",
   "metadata": {},
   "outputs": [
    {
     "name": "stdout",
     "output_type": "stream",
     "text": [
      "enter an integer12\n",
      "enter an integer3\n",
      "enter an integer4\n",
      "enter an integer7\n",
      "enter an integer7\n",
      "enter an integer2\n",
      "enter an integer4\n",
      "enter an integer7\n",
      "enter an integer3\n",
      "enter an integer2\n",
      "5.1\n"
     ]
    }
   ],
   "source": [
    "s=0\n",
    "for h in range(0,10):\n",
    "    i=int(input(\"enter an integer\"))\n",
    "    s+=i\n",
    "print(s/10)"
   ]
  },
  {
   "cell_type": "code",
   "execution_count": 11,
   "id": "359df016",
   "metadata": {},
   "outputs": [
    {
     "name": "stdout",
     "output_type": "stream",
     "text": [
      "give a number : 12\n",
      "if you want to exit press - q\n",
      "give a number : 3\n",
      "if you want to exit press - q\n",
      "give a number : 4\n",
      "if you want to exit press - q\n",
      "give a number : 6\n",
      "if you want to exit press - q\n",
      "give a number : 8\n",
      "if you want to exit press - q\n",
      "give a number : 9\n",
      "if you want to exit press - q\n",
      "give a number : 3\n",
      "if you want to exit press - q\n",
      "give a number : 2\n",
      "if you want to exit press - q\n",
      "give a number : 1\n",
      "if you want to exit press - q\n",
      "give a number : 9\n",
      "if you want to exit press - q\n",
      "give a number : 4\n",
      "if you want to exit press - q\n",
      "give a number : 5\n",
      "if you want to exit press - q\n",
      "give a number : q\n",
      "\n",
      "Product = 67184640\n",
      "Average = 5.5\n"
     ]
    }
   ],
   "source": [
    "#11) Write a program which takes integer inputs from user until he/she presses “q” (Ask to press q to quit after every integer\n",
    "#input). Print average and product of all numbers.\n",
    "numbers=[]\n",
    "newnum=[]\n",
    "product=1\n",
    "while True:\n",
    "    num=input(\"give a number : \")\n",
    "    if num==\"q\":\n",
    "        break\n",
    "    print(\"if you want to exit press - q\")\n",
    "    numbers.append(num)\n",
    "for j in numbers:\n",
    "    a=int(j)\n",
    "    newnum.append(a)\n",
    "for i in newnum:\n",
    "    product=product*i\n",
    "total=sum(newnum)\n",
    "average=total/len(newnum)\n",
    "print(\"\\nProduct = {}\".format(product))\n",
    "print(\"Average = {}\".format(average))\n"
   ]
  },
  {
   "cell_type": "code",
   "execution_count": 12,
   "id": "0e9cedb8",
   "metadata": {},
   "outputs": [
    {
     "name": "stdout",
     "output_type": "stream",
     "text": [
      "enter the string: asd12.asd22\n",
      "asdasd\n"
     ]
    }
   ],
   "source": [
    "#12) Write a Python program which will remove all digits or any other characters from the string except alphabets\n",
    "#Example: Input: “asd12.asd22”\n",
    "#Output: 'asdasd'\n",
    "a=input(\"enter the string: \")\n",
    "s=\"\"\n",
    "for c in a:\n",
    "    if c.isalpha():\n",
    "        s+=c\n",
    "print(s)\n",
    "\n"
   ]
  },
  {
   "cell_type": "code",
   "execution_count": 13,
   "id": "e0480af4",
   "metadata": {},
   "outputs": [
    {
     "name": "stdout",
     "output_type": "stream",
     "text": [
      "enter the string: asd12.asd22\n",
      "asdasd\n"
     ]
    }
   ],
   "source": [
    "a=input(\"enter the string: \")\n",
    "l=len(a)\n",
    "s=\"\"\n",
    "i=0\n",
    "while i<l:\n",
    "    if a[i].isalpha():\n",
    "        s=s+a[i]\n",
    "        s=\"\".join(s)\n",
    "    i+=1\n",
    "print(s)      "
   ]
  },
  {
   "cell_type": "code",
   "execution_count": 14,
   "id": "b06c3104",
   "metadata": {},
   "outputs": [
    {
     "name": "stdout",
     "output_type": "stream",
     "text": [
      "30\n"
     ]
    }
   ],
   "source": [
    "#13) Write a python program to find the sum of all even numbers from 0 to 10\n",
    "s=0\n",
    "for i in range(0,11):\n",
    "    if i%2==0:\n",
    "        s=s+i\n",
    "print(s)"
   ]
  },
  {
   "cell_type": "code",
   "execution_count": 15,
   "id": "401cf659",
   "metadata": {},
   "outputs": [
    {
     "name": "stdout",
     "output_type": "stream",
     "text": [
      "30\n"
     ]
    }
   ],
   "source": [
    "#while loop\n",
    "s=0\n",
    "i=0\n",
    "while s<=10:\n",
    "    s=s+1\n",
    "    if s%2==0:\n",
    "        i=i+s\n",
    "print(i) "
   ]
  },
  {
   "cell_type": "code",
   "execution_count": 16,
   "id": "eed94ec9",
   "metadata": {},
   "outputs": [
    {
     "name": "stdout",
     "output_type": "stream",
     "text": [
      "enter a digit: 5\n",
      "4\n",
      "3\n",
      "2\n",
      "1\n",
      "0\n"
     ]
    }
   ],
   "source": [
    "#14) Write a python program which will accept a digit and print All the numbers before it till 0\n",
    "#Example:Input: 5\n",
    "#Output:\n",
    "#4\n",
    "#3\n",
    "#2\n",
    "#1\n",
    "#0\n",
    "d=int(input(\"enter a digit: \"))\n",
    "for n in range(1,d+1):\n",
    "    print(d-n)  \n"
   ]
  },
  {
   "cell_type": "code",
   "execution_count": 17,
   "id": "7146dbc1",
   "metadata": {},
   "outputs": [
    {
     "name": "stdout",
     "output_type": "stream",
     "text": [
      "enter a digit: 5\n",
      "4\n",
      "3\n",
      "2\n",
      "1\n",
      "0\n"
     ]
    }
   ],
   "source": [
    "d=int(input(\"enter a digit: \"))\n",
    "n=1\n",
    "while n<=d:\n",
    "    print(d-n)\n",
    "    n=n+1"
   ]
  },
  {
   "cell_type": "code",
   "execution_count": 18,
   "id": "58e87ebc",
   "metadata": {},
   "outputs": [
    {
     "name": "stdout",
     "output_type": "stream",
     "text": [
      "enter a number: 4\n",
      "enter a number: 3\n",
      "enter a symbol /,*,**,+,-,%,//: +\n",
      "to stop enter c: d\n",
      "7\n",
      "enter a number: 5\n",
      "enter a number: 7\n",
      "enter a symbol /,+,-,//,%,*,**: *\n",
      "to stop enter c: c\n"
     ]
    }
   ],
   "source": [
    "#15) Create a dynamic calculator which will run continually till you press “c”\n",
    "a=int(input(\"enter a number: \"))\n",
    "b=int(input(\"enter a number: \"))\n",
    "s=input(\"enter a symbol /,*,**,+,-,%,//: \")\n",
    "k=input(\"to stop enter c: \")\n",
    "while k!=\"c\":\n",
    "    if s==\"+\":\n",
    "        print(a+b)\n",
    "    elif s==\"-\":\n",
    "        print(a-b)\n",
    "    elif s==\"*\":\n",
    "        print(a*b)\n",
    "    elif s== \"/\":\n",
    "        print(a/b)\n",
    "    elif s== \"%\":\n",
    "        print(a%b)\n",
    "    elif s== \"**\":\n",
    "        print(a**b)\n",
    "    elif s== \"//\":\n",
    "        print(a//b)\n",
    "    a=int(input(\"enter a number: \"))\n",
    "    b=int(input(\"enter a number: \"))\n",
    "    s=input(\"enter a symbol /,+,-,//,%,*,**: \")\n",
    "    k=input(\"to stop enter c: \")\n"
   ]
  },
  {
   "cell_type": "code",
   "execution_count": null,
   "id": "7ebf59b1",
   "metadata": {},
   "outputs": [],
   "source": []
  }
 ],
 "metadata": {
  "kernelspec": {
   "display_name": "Python 3 (ipykernel)",
   "language": "python",
   "name": "python3"
  },
  "language_info": {
   "codemirror_mode": {
    "name": "ipython",
    "version": 3
   },
   "file_extension": ".py",
   "mimetype": "text/x-python",
   "name": "python",
   "nbconvert_exporter": "python",
   "pygments_lexer": "ipython3",
   "version": "3.9.13"
  }
 },
 "nbformat": 4,
 "nbformat_minor": 5
}
